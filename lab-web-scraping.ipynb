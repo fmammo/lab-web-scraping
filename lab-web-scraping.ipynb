{
 "cells": [
  {
   "cell_type": "markdown",
   "metadata": {
    "id": "7e7a1ab8-2599-417d-9a65-25ef07f3a786"
   },
   "source": [
    "# Lab | Web Scraping"
   ]
  },
  {
   "cell_type": "markdown",
   "metadata": {
    "id": "ce8882fc-4815-4567-92fa-b4816358ba7d"
   },
   "source": [
    "Welcome to the IMDb Web Scraping Adventure Lab!\n",
    "\n",
    "**Objective**\n",
    "\n",
    "In this lab, we will embark on a mission to unearth valuable insights from the vast sea of data available on IMDb, one of the largest online databases of movie, TV, and celebrity information. As budding data scientists and business analysts, you have been tasked to scrape a specific subset of data from IMDb to assist film production companies in understanding the landscape of highly-rated movies in a defined time period. Your insights will potentially influence the making of the next netflix movie!\n",
    "\n",
    "**Background**\n",
    "\n",
    "In a world where data has become the new currency, businesses are leveraging big data to make informed decisions that drive success and profitability. The entertainment industry, being no exception, utilizes data analytics to comprehend market trends, audience preferences, and the performance of films based on various parameters such as director, genre, stars involved, etc. IMDb stands as a goldmine of such data, offering intricate details of almost every movie ever made.\n",
    "\n",
    "**Task**\n",
    "\n",
    "Your task is to create a Python script using `BeautifulSoup` and `pandas` to scrape IMDb movie data based on user ratings and release dates. This script should be able to filter movies with ratings above a certain threshold and within a specified date range.\n",
    "\n",
    "**Expected Outcome**\n",
    "\n",
    "- A function named `scrape_imdb` that takes four parameters: `title_type`,`user_rating`, `start_date`, and `end_date`.\n",
    "- The function should return a DataFrame with the following columns:\n",
    "  - **Movie Nr**: The number representing the movie’s position in the list.\n",
    "  - **Title**: The title of the movie.\n",
    "  - **Year**: The year the movie was released.\n",
    "  - **Rating**: The IMDb rating of the movie.\n",
    "  - **Runtime (min)**: The duration of the movie in minutes.\n",
    "  - **Genre**: The genre of the movie.\n",
    "  - **Description**: A brief description of the movie.\n",
    "  - **Director**: The director of the movie.\n",
    "  - **Stars**: The main stars of the movie.\n",
    "  - **Votes**: The number of votes the movie received.\n",
    "  - **Gross ($M)**: The gross earnings of the movie in millions of USD.\n",
    "\n",
    "You will execute this script to scrape data for movies with the Title Type `Feature Film` that have a user rating of `7.5 and above` and were released between `January 1, 1990, and December 31, 1992`.\n",
    "\n",
    "Remember to experiment with different title types, dates and ratings to ensure your code is versatile and can handle various searches effectively!\n",
    "\n",
    "**Resources**\n",
    "\n",
    "- [Beautiful Soup Documentation](https://www.crummy.com/software/BeautifulSoup/bs4/doc/)\n",
    "- [Pandas Documentation](https://pandas.pydata.org/pandas-docs/stable/index.html)\n",
    "- [IMDb Advanced Search](https://www.imdb.com/search/title/)\n"
   ]
  },
  {
   "cell_type": "markdown",
   "metadata": {
    "id": "3519921d-5890-445b-9a33-934ed8ee378c"
   },
   "source": [
    "**Hint**\n",
    "\n",
    "Your first mission is to familiarize yourself with the IMDb advanced search page. Head over to [IMDb advanced search](https://www.imdb.com/search/title/) and input the following parameters, keeping all other fields to their default values or blank:\n",
    "\n",
    "- **Title Type**: Feature film\n",
    "- **Release date**: From 1990 to 1992 (Note: You don't need to specify the day and month)\n",
    "- **User Rating**: 7.5 to -\n",
    "\n",
    "Upon searching, you'll land on a page showcasing a list of movies, each displaying vital details such as the title, release year, and crew information. Your task is to scrape this treasure trove of data.\n",
    "\n",
    "Carefully examine the resulting URL and construct your own URL to include all the necessary parameters for filtering the movies."
   ]
  },
  {
   "cell_type": "markdown",
   "metadata": {
    "id": "25a83a0d-a742-49f6-985e-e27887cbf922"
   },
   "source": [
    "\n",
    "---\n",
    "\n",
    "**Best of luck! Immerse yourself in the world of movies and may the data be with you!**"
   ]
  },
  {
   "cell_type": "markdown",
   "metadata": {
    "id": "7b75cf0d-9afa-4eec-a9e2-befeac68b2a0"
   },
   "source": [
    "**Important note**:\n",
    "\n",
    "In the fast-changing online world, websites often get updates and make changes. When you try this lab, the IMDb website might be different from what we expect.\n",
    "\n",
    "If you run into problems because of these changes, like new rules or things that stop you from getting data, don't worry! Instead, get creative.\n",
    "\n",
    "You can choose another website that interests you and is good for scraping data. Websites like Wikipedia or The New York Times are good options. The main goal is still the same: get useful data and learn how to scrape it from a website that you find interesting. It's a chance to practice your web scraping skills and explore a source of information you like."
   ]
  },
  {
   "cell_type": "markdown",
   "metadata": {
    "id": "9ab1217a-df9d-4a2b-a32c-2c5f1eecd52a"
   },
   "source": [
    "## BONUS\n",
    "\n",
    "The search results span multiple pages, housing a total of 631 movies in our example with each page displaying 50 movies at most. To scrape data seamlessly from all pages, you'll need to dive deep into the structure of the URLs generated with each \"Next\" click.\n",
    "\n",
    "Take a close look at the following URLs:\n",
    "- First page:\n",
    "  ```\n",
    "  https://www.imdb.com/search/title/?title_type=feature&release_date=1990-01-01,1992-12-31&user_rating=7.5,\n",
    "  ```\n",
    "- Second page:\n",
    "  ```\n",
    "  https://www.imdb.com/search/title/?title_type=feature&release_date=1990-01-01,1992-12-31&user_rating=7.5,&start=51&ref_=adv_nxt\n",
    "  ```\n",
    "- Third page:\n",
    "  ```\n",
    "  https://www.imdb.com/search/title/?title_type=feature&release_date=1990-01-01,1992-12-31&user_rating=7.5,&start=101&ref_=adv_nxt\n",
    "  ```\n",
    "\n",
    "You should notice a pattern. There is a `start` parameter incrementing by 50 with each page, paired with a constant `ref_` parameter holding the value \"adv_nxt\".\n",
    "\n",
    "Modify your script so it's capable of iterating over all available pages to fetch data on all the 631 movies (631 is the total number of movies in the proposed example)."
   ]
  },
  {
   "cell_type": "markdown",
   "metadata": {
    "id": "40359eee-9cd7-4884-bfa4-83344c222305"
   },
   "source": [
    "# List of Large German Companies"
   ]
  },
  {
   "cell_type": "code",
   "execution_count": 25,
   "metadata": {
    "id": "21ac4fc0-a12b-4a00-9266-2020166f0dea"
   },
   "outputs": [],
   "source": [
    "# import necessary libraries \n",
    "from bs4 import BeautifulSoup\n",
    "import requests \n",
    "import pandas as pd"
   ]
  },
  {
   "cell_type": "code",
   "execution_count": 5,
   "metadata": {},
   "outputs": [
    {
     "data": {
      "text/plain": [
       "<Response [200]>"
      ]
     },
     "execution_count": 5,
     "metadata": {},
     "output_type": "execute_result"
    }
   ],
   "source": [
    "url = 'https://en.wikipedia.org/wiki/List_of_largest_German_companies#See_also'\n",
    "page_response = requests.get(url)\n",
    "page_response "
   ]
  },
  {
   "cell_type": "code",
   "execution_count": 15,
   "metadata": {},
   "outputs": [],
   "source": [
    "page_soup = BeautifulSoup(page_response.text, 'html')\n",
    "# page_soup.head()"
   ]
  },
  {
   "cell_type": "code",
   "execution_count": 42,
   "metadata": {},
   "outputs": [],
   "source": [
    "table_ = page_soup.find_all('table')[1]\n",
    "#table_"
   ]
  },
  {
   "cell_type": "code",
   "execution_count": 43,
   "metadata": {},
   "outputs": [],
   "source": [
    "#page_soup.find('table', class_ = 'wikitable sortable')"
   ]
  },
  {
   "cell_type": "code",
   "execution_count": 44,
   "metadata": {},
   "outputs": [],
   "source": [
    "page_table = page_soup.find_all('table')[1]\n",
    "#page_table"
   ]
  },
  {
   "cell_type": "code",
   "execution_count": 24,
   "metadata": {
    "scrolled": true
   },
   "outputs": [
    {
     "data": {
      "text/plain": [
       "[<th align=\"center\">Rank\n",
       " </th>, <th align=\"center\">Forbes <br/>2000 rank\n",
       " </th>, <th align=\"center\">Name\n",
       " </th>, <th align=\"center\">Headquarters\n",
       " </th>, <th align=\"center\">Revenue<br/>(billions <br/>US$)\n",
       " </th>, <th align=\"center\">Profit<br/>(billions <br/>US$)\n",
       " </th>, <th align=\"center\">Assets<br/>(billions <br/>US$)\n",
       " </th>, <th align=\"center\">Value<br/>(billions <br/>US$)\n",
       " </th>, <th align=\"center\">Industry\n",
       " </th>]"
      ]
     },
     "execution_count": 24,
     "metadata": {},
     "output_type": "execute_result"
    }
   ],
   "source": [
    "germ_title = page_table.find_all('th')\n",
    "germ_title"
   ]
  },
  {
   "cell_type": "code",
   "execution_count": 27,
   "metadata": {},
   "outputs": [
    {
     "data": {
      "text/plain": [
       "['Rank',\n",
       " 'Forbes 2000 rank',\n",
       " 'Name',\n",
       " 'Headquarters',\n",
       " 'Revenue(billions US$)',\n",
       " 'Profit(billions US$)',\n",
       " 'Assets(billions US$)',\n",
       " 'Value(billions US$)',\n",
       " 'Industry']"
      ]
     },
     "execution_count": 27,
     "metadata": {},
     "output_type": "execute_result"
    }
   ],
   "source": [
    "ger_title_table = [title.text.strip() for title in germ_title]\n",
    "ger_title_table"
   ]
  },
  {
   "cell_type": "code",
   "execution_count": 29,
   "metadata": {},
   "outputs": [
    {
     "data": {
      "text/html": [
       "<div>\n",
       "<style scoped>\n",
       "    .dataframe tbody tr th:only-of-type {\n",
       "        vertical-align: middle;\n",
       "    }\n",
       "\n",
       "    .dataframe tbody tr th {\n",
       "        vertical-align: top;\n",
       "    }\n",
       "\n",
       "    .dataframe thead th {\n",
       "        text-align: right;\n",
       "    }\n",
       "</style>\n",
       "<table border=\"1\" class=\"dataframe\">\n",
       "  <thead>\n",
       "    <tr style=\"text-align: right;\">\n",
       "      <th></th>\n",
       "      <th>Rank</th>\n",
       "      <th>Forbes 2000 rank</th>\n",
       "      <th>Name</th>\n",
       "      <th>Headquarters</th>\n",
       "      <th>Revenue(billions US$)</th>\n",
       "      <th>Profit(billions US$)</th>\n",
       "      <th>Assets(billions US$)</th>\n",
       "      <th>Value(billions US$)</th>\n",
       "      <th>Industry</th>\n",
       "    </tr>\n",
       "  </thead>\n",
       "  <tbody>\n",
       "  </tbody>\n",
       "</table>\n",
       "</div>"
      ],
      "text/plain": [
       "Empty DataFrame\n",
       "Columns: [Rank, Forbes 2000 rank, Name, Headquarters, Revenue(billions US$), Profit(billions US$), Assets(billions US$), Value(billions US$), Industry]\n",
       "Index: []"
      ]
     },
     "execution_count": 29,
     "metadata": {},
     "output_type": "execute_result"
    }
   ],
   "source": [
    "ger_df = pd.DataFrame(columns = ger_title_table)\n",
    "ger_df"
   ]
  },
  {
   "cell_type": "code",
   "execution_count": 33,
   "metadata": {},
   "outputs": [],
   "source": [
    "col_data = table_.find_all('tr')"
   ]
  },
  {
   "cell_type": "code",
   "execution_count": 35,
   "metadata": {},
   "outputs": [],
   "source": [
    "for row in col_data[1:]:\n",
    "    row_data = row.find_all('td')\n",
    "    single_row_data = [data.text.strip() for data in row_data]\n",
    "    \n",
    "    length = len(ger_df)\n",
    "    ger_df.loc[length] = single_row_data"
   ]
  },
  {
   "cell_type": "code",
   "execution_count": 37,
   "metadata": {},
   "outputs": [
    {
     "data": {
      "text/html": [
       "<div>\n",
       "<style scoped>\n",
       "    .dataframe tbody tr th:only-of-type {\n",
       "        vertical-align: middle;\n",
       "    }\n",
       "\n",
       "    .dataframe tbody tr th {\n",
       "        vertical-align: top;\n",
       "    }\n",
       "\n",
       "    .dataframe thead th {\n",
       "        text-align: right;\n",
       "    }\n",
       "</style>\n",
       "<table border=\"1\" class=\"dataframe\">\n",
       "  <thead>\n",
       "    <tr style=\"text-align: right;\">\n",
       "      <th></th>\n",
       "      <th>Rank</th>\n",
       "      <th>Forbes 2000 rank</th>\n",
       "      <th>Name</th>\n",
       "      <th>Headquarters</th>\n",
       "      <th>Revenue(billions US$)</th>\n",
       "      <th>Profit(billions US$)</th>\n",
       "      <th>Assets(billions US$)</th>\n",
       "      <th>Value(billions US$)</th>\n",
       "      <th>Industry</th>\n",
       "    </tr>\n",
       "  </thead>\n",
       "  <tbody>\n",
       "    <tr>\n",
       "      <th>0</th>\n",
       "      <td>1</td>\n",
       "      <td>9</td>\n",
       "      <td>Volkswagen</td>\n",
       "      <td>Wolfsburg</td>\n",
       "      <td>278.2</td>\n",
       "      <td>14.0</td>\n",
       "      <td>553.5</td>\n",
       "      <td>92.0</td>\n",
       "      <td>Automotive</td>\n",
       "    </tr>\n",
       "    <tr>\n",
       "      <th>1</th>\n",
       "      <td>2</td>\n",
       "      <td>23</td>\n",
       "      <td>Allianz</td>\n",
       "      <td>Munich</td>\n",
       "      <td>118.8</td>\n",
       "      <td>8.8</td>\n",
       "      <td>1,060.2</td>\n",
       "      <td>102.3</td>\n",
       "      <td>Insurance</td>\n",
       "    </tr>\n",
       "    <tr>\n",
       "      <th>2</th>\n",
       "      <td>3</td>\n",
       "      <td>37</td>\n",
       "      <td>Daimler AG</td>\n",
       "      <td>Stuttgart</td>\n",
       "      <td>197.4</td>\n",
       "      <td>8.6</td>\n",
       "      <td>321.9</td>\n",
       "      <td>71.3</td>\n",
       "      <td>Automotive</td>\n",
       "    </tr>\n",
       "    <tr>\n",
       "      <th>3</th>\n",
       "      <td>4</td>\n",
       "      <td>57</td>\n",
       "      <td>BMW</td>\n",
       "      <td>Munich</td>\n",
       "      <td>115.0</td>\n",
       "      <td>8.4</td>\n",
       "      <td>238.9</td>\n",
       "      <td>57.5</td>\n",
       "      <td>Automotive</td>\n",
       "    </tr>\n",
       "    <tr>\n",
       "      <th>4</th>\n",
       "      <td>5</td>\n",
       "      <td>64</td>\n",
       "      <td>Siemens</td>\n",
       "      <td>Munich / Berlin</td>\n",
       "      <td>98.3</td>\n",
       "      <td>5.5</td>\n",
       "      <td>164.2</td>\n",
       "      <td>97.0</td>\n",
       "      <td>Conglomerate</td>\n",
       "    </tr>\n",
       "  </tbody>\n",
       "</table>\n",
       "</div>"
      ],
      "text/plain": [
       "  Rank Forbes 2000 rank        Name     Headquarters Revenue(billions US$)  \\\n",
       "0    1                9  Volkswagen        Wolfsburg                 278.2   \n",
       "1    2               23     Allianz           Munich                 118.8   \n",
       "2    3               37  Daimler AG        Stuttgart                 197.4   \n",
       "3    4               57         BMW           Munich                 115.0   \n",
       "4    5               64     Siemens  Munich / Berlin                  98.3   \n",
       "\n",
       "  Profit(billions US$) Assets(billions US$) Value(billions US$)      Industry  \n",
       "0                 14.0                553.5                92.0    Automotive  \n",
       "1                  8.8              1,060.2               102.3     Insurance  \n",
       "2                  8.6                321.9                71.3    Automotive  \n",
       "3                  8.4                238.9                57.5    Automotive  \n",
       "4                  5.5                164.2                97.0  Conglomerate  "
      ]
     },
     "execution_count": 37,
     "metadata": {},
     "output_type": "execute_result"
    }
   ],
   "source": [
    "ger_df.head()"
   ]
  },
  {
   "cell_type": "code",
   "execution_count": 41,
   "metadata": {},
   "outputs": [
    {
     "data": {
      "text/plain": [
       "(53, 9)"
      ]
     },
     "execution_count": 41,
     "metadata": {},
     "output_type": "execute_result"
    }
   ],
   "source": [
    "ger_df.shape"
   ]
  },
  {
   "cell_type": "code",
   "execution_count": 40,
   "metadata": {},
   "outputs": [],
   "source": [
    "# Save the data as a csv file\n",
    "ger_df.to_csv(r'C:\\Users\\fevi\\Documents\\IRONHACK\\Course\\Week_2\\LAB_6\\lab-web-scraping\\Largest_German_companies.csv', index = False)"
   ]
  }
 ],
 "metadata": {
  "colab": {
   "provenance": []
  },
  "kernelspec": {
   "display_name": "Python 3",
   "language": "python",
   "name": "python3"
  },
  "language_info": {
   "codemirror_mode": {
    "name": "ipython",
    "version": 3
   },
   "file_extension": ".py",
   "mimetype": "text/x-python",
   "name": "python",
   "nbconvert_exporter": "python",
   "pygments_lexer": "ipython3",
   "version": "3.6.8"
  }
 },
 "nbformat": 4,
 "nbformat_minor": 5
}
